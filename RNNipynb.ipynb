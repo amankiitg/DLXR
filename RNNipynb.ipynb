{
  "nbformat": 4,
  "nbformat_minor": 0,
  "metadata": {
    "colab": {
      "provenance": [],
      "authorship_tag": "ABX9TyNE7K6zE2gzJj+jTDD16gNs",
      "include_colab_link": true
    },
    "kernelspec": {
      "name": "python3",
      "display_name": "Python 3"
    },
    "language_info": {
      "name": "python"
    }
  },
  "cells": [
    {
      "cell_type": "markdown",
      "metadata": {
        "id": "view-in-github",
        "colab_type": "text"
      },
      "source": [
        "<a href=\"https://colab.research.google.com/github/amankiitg/DLXR/blob/main/RNNipynb.ipynb\" target=\"_parent\"><img src=\"https://colab.research.google.com/assets/colab-badge.svg\" alt=\"Open In Colab\"/></a>"
      ]
    },
    {
      "cell_type": "code",
      "execution_count": null,
      "metadata": {
        "id": "siqwmleI-8Vl"
      },
      "outputs": [],
      "source": [
        "from keras.models import Sequential\n",
        "from keras.layers import SimpleRNN\n",
        "from keras.layers import Dense"
      ]
    },
    {
      "cell_type": "code",
      "source": [
        "from keras.engine import input_spec\n",
        "model = Sequential()\n",
        "model.add(SimpleRNN(50,input_shape=(3,100), return_sequences=True, use_bias=True))\n",
        "model.add(SimpleRNN(30, input_shape=(3,50),return_sequences=True, use_bias=True))\n",
        "model.add(Dense(5, use_bias=False))\n",
        "model.summary()"
      ],
      "metadata": {
        "colab": {
          "base_uri": "https://localhost:8080/"
        },
        "id": "lahUWWbn_K81",
        "outputId": "ee3cbbd8-7467-4d7c-a2da-0b33725b849c"
      },
      "execution_count": null,
      "outputs": [
        {
          "output_type": "stream",
          "name": "stdout",
          "text": [
            "Model: \"sequential_2\"\n",
            "_________________________________________________________________\n",
            " Layer (type)                Output Shape              Param #   \n",
            "=================================================================\n",
            " simple_rnn_3 (SimpleRNN)    (None, 3, 50)             7550      \n",
            "                                                                 \n",
            " simple_rnn_4 (SimpleRNN)    (None, 3, 30)             2430      \n",
            "                                                                 \n",
            " dense_1 (Dense)             (None, 3, 5)              150       \n",
            "                                                                 \n",
            "=================================================================\n",
            "Total params: 10,130\n",
            "Trainable params: 10,130\n",
            "Non-trainable params: 0\n",
            "_________________________________________________________________\n"
          ]
        }
      ]
    },
    {
      "cell_type": "code",
      "source": [
        "from keras.engine import input_spec\n",
        "model = Sequential()\n",
        "model.add(SimpleRNN(128,input_shape=(5,3), return_sequences=True, use_bias=True))\n",
        "model.add(Dense(2, use_bias=True))\n",
        "model.summary()"
      ],
      "metadata": {
        "colab": {
          "base_uri": "https://localhost:8080/"
        },
        "id": "9OP-ptqz_kDw",
        "outputId": "cecadce3-1e0d-4e63-cdc4-3587fc6cbec6"
      },
      "execution_count": null,
      "outputs": [
        {
          "output_type": "stream",
          "name": "stdout",
          "text": [
            "Model: \"sequential_4\"\n",
            "_________________________________________________________________\n",
            " Layer (type)                Output Shape              Param #   \n",
            "=================================================================\n",
            " simple_rnn_6 (SimpleRNN)    (None, 5, 128)            16896     \n",
            "                                                                 \n",
            " dense_3 (Dense)             (None, 5, 2)              258       \n",
            "                                                                 \n",
            "=================================================================\n",
            "Total params: 17,154\n",
            "Trainable params: 17,154\n",
            "Non-trainable params: 0\n",
            "_________________________________________________________________\n"
          ]
        }
      ]
    },
    {
      "cell_type": "code",
      "source": [],
      "metadata": {
        "id": "75ybmGuXVhWy"
      },
      "execution_count": null,
      "outputs": []
    }
  ]
}